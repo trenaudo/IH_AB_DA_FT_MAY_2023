{
 "cells": [
  {
   "cell_type": "markdown",
   "metadata": {},
   "source": [
    "## Functions"
   ]
  },
  {
   "cell_type": "markdown",
   "metadata": {},
   "source": [
    "A function is a 'device' that groups a set of statements so they can be run more than once in a program.\n",
    "\n",
    "They let us specify parameters (arguments) as inputs.\n",
    "\n",
    "**Why use functions?**\n",
    "\n",
    "- Maximizing code re-use and minimizing redundancy <br>\n",
    "Because we can group operations in a single place (with a single name) and call it many times, we have to write less code.\n",
    "'Packing' your code into functions is generally a way to make it more useful, portable and easy to automatize and re-use.\n",
    "- Easier to debug.\n",
    "- More organized code.\n",
    "- Sharing code more efficiently (building packages).\n",
    "\n",
    "\n",
    "Functions help you split programs into parts that have meaning and have a specific purpose. Your programs should be split into chunks (functions), each with its sub-tasks."
   ]
  },
  {
   "cell_type": "markdown",
   "metadata": {},
   "source": [
    "### Coding functions\n",
    "\n",
    "- **def** is executable code. We have to execute the code for the function to exist. def creates an object and assigns it to a name. A new function object is created and assigned to the function's name.\n",
    "\n",
    "- **return** sends a result back to the caller\n",
    "\n",
    "- **global** and **non-local** adjust the scope of variables. By default, all names assigned in a function are local to that function and exist only while the function runs. To assign a name in the enclosing module, functions need to list it in a global statement. More generally, names are always looked up in scopes—places where variables are stored —and assignments bind names to scopes.\n",
    "\n",
    "- **arguments** are passed by position, unless you specify otherwise\n",
    "\n"
   ]
  },
  {
   "cell_type": "markdown",
   "metadata": {},
   "source": [
    "#### def Statement\n",
    "\n",
    "`def name(arg1, arg2, ... argN):\n",
    "    ...\n",
    "    return value`"
   ]
  },
  {
   "cell_type": "markdown",
   "metadata": {},
   "source": [
    "## Function definition "
   ]
  },
  {
   "cell_type": "code",
   "execution_count": 1,
   "metadata": {},
   "outputs": [],
   "source": [
    "## function definition \n",
    "def adding_constant(input_var):\n",
    "    result= input_var+50  ##logic \n",
    "    return result"
   ]
  },
  {
   "cell_type": "code",
   "execution_count": 3,
   "metadata": {
    "scrolled": true
   },
   "outputs": [],
   "source": [
    "new_var = adding_constant(7)"
   ]
  },
  {
   "cell_type": "code",
   "execution_count": 4,
   "metadata": {},
   "outputs": [
    {
     "data": {
      "text/plain": [
       "int"
      ]
     },
     "execution_count": 4,
     "metadata": {},
     "output_type": "execute_result"
    }
   ],
   "source": [
    "type(new_var)"
   ]
  },
  {
   "cell_type": "markdown",
   "metadata": {},
   "source": [
    "##  function calling / executing "
   ]
  },
  {
   "cell_type": "code",
   "execution_count": 5,
   "metadata": {},
   "outputs": [],
   "source": [
    "y=15\n",
    "z=10\n",
    "q=7"
   ]
  },
  {
   "cell_type": "code",
   "execution_count": 6,
   "metadata": {},
   "outputs": [
    {
     "name": "stdout",
     "output_type": "stream",
     "text": [
      "65\n",
      "60\n",
      "57\n"
     ]
    }
   ],
   "source": [
    "##. Executing the function. ,  calling the function   user-defined function \n",
    "print(adding_constant(y))\n",
    "print(adding_constant(z))\n",
    "print(adding_constant(q))"
   ]
  },
  {
   "cell_type": "code",
   "execution_count": 7,
   "metadata": {},
   "outputs": [
    {
     "name": "stdout",
     "output_type": "stream",
     "text": [
      "65\n",
      "60\n",
      "57\n"
     ]
    }
   ],
   "source": [
    "print(y+50 )\n",
    "print(z+50 )\n",
    "print(q+50 )"
   ]
  },
  {
   "cell_type": "code",
   "execution_count": 8,
   "metadata": {
    "scrolled": true
   },
   "outputs": [
    {
     "name": "stdout",
     "output_type": "stream",
     "text": [
      "65\n",
      "60\n",
      "57\n"
     ]
    }
   ],
   "source": [
    "for i in [y,z,q]:\n",
    "    print(adding_constant(i))"
   ]
  },
  {
   "cell_type": "markdown",
   "metadata": {},
   "source": [
    "### Built-in function"
   ]
  },
  {
   "cell_type": "code",
   "execution_count": 9,
   "metadata": {},
   "outputs": [
    {
     "data": {
      "text/plain": [
       "3"
      ]
     },
     "execution_count": 9,
     "metadata": {},
     "output_type": "execute_result"
    }
   ],
   "source": [
    "x= 3.476\n",
    "round(x)"
   ]
  },
  {
   "cell_type": "code",
   "execution_count": 10,
   "metadata": {},
   "outputs": [],
   "source": [
    "import random"
   ]
  },
  {
   "cell_type": "markdown",
   "metadata": {},
   "source": [
    "#### Defining a random function"
   ]
  },
  {
   "cell_type": "code",
   "execution_count": 15,
   "metadata": {},
   "outputs": [],
   "source": [
    "def random_num():\n",
    "    possible_numbers = [1,2,3]\n",
    "    x = random.choice(possible_numbers)\n",
    "    return x"
   ]
  },
  {
   "cell_type": "code",
   "execution_count": 16,
   "metadata": {},
   "outputs": [],
   "source": [
    "rand_num=random_num()"
   ]
  },
  {
   "cell_type": "code",
   "execution_count": 18,
   "metadata": {},
   "outputs": [
    {
     "data": {
      "text/plain": [
       "3"
      ]
     },
     "execution_count": 18,
     "metadata": {},
     "output_type": "execute_result"
    }
   ],
   "source": [
    "rand_num"
   ]
  },
  {
   "cell_type": "code",
   "execution_count": 19,
   "metadata": {},
   "outputs": [],
   "source": [
    "## take any number and multiply it by 15\n",
    "def product_by_constant(input_num):\n",
    "    return input_num * 15"
   ]
  },
  {
   "cell_type": "code",
   "execution_count": 20,
   "metadata": {},
   "outputs": [
    {
     "data": {
      "text/plain": [
       "180"
      ]
     },
     "execution_count": 20,
     "metadata": {},
     "output_type": "execute_result"
    }
   ],
   "source": [
    "product_by_constant(12)"
   ]
  },
  {
   "cell_type": "code",
   "execution_count": 21,
   "metadata": {},
   "outputs": [],
   "source": [
    "def process_sensor_data(input_var):\n",
    "    '''\n",
    "    Document your function!\n",
    "    Arguments, type of arguments\n",
    "    Output, output type\n",
    "    Purpose of the function\n",
    "    '''\n",
    "    added_result= adding_constant(input_var)\n",
    "    multiplied_result=product_by_constant(added_result)\n",
    "    \n",
    "    return multiplied_result "
   ]
  },
  {
   "cell_type": "code",
   "execution_count": 22,
   "metadata": {},
   "outputs": [
    {
     "data": {
      "text/plain": [
       "825"
      ]
     },
     "execution_count": 22,
     "metadata": {},
     "output_type": "execute_result"
    }
   ],
   "source": [
    "process_sensor_data(5)"
   ]
  },
  {
   "cell_type": "code",
   "execution_count": 23,
   "metadata": {},
   "outputs": [
    {
     "data": {
      "text/plain": [
       "867"
      ]
     },
     "execution_count": 23,
     "metadata": {},
     "output_type": "execute_result"
    }
   ],
   "source": [
    "output_var = process_sensor_data(7) + 12 \n",
    "output_var"
   ]
  },
  {
   "cell_type": "code",
   "execution_count": 26,
   "metadata": {},
   "outputs": [
    {
     "name": "stdout",
     "output_type": "stream",
     "text": [
      "There are 16 students at Ironhack Data Analytics - March 2023 Iranel González is one of them.\n",
      "There are 2 teachers at Ironhack Data Analytics - March 2023. . Sandra is one of them.\n"
     ]
    }
   ],
   "source": [
    "# some data\n",
    "students = ['Anaswara Vijayan',\n",
    " 'Azad Kader',\n",
    " 'Babitha Prasun',\n",
    " 'Bruna Santos',\n",
    " 'Bryan Dunleavy',\n",
    " 'Elisa Cerdá Doñate',\n",
    " 'Feras Rafeh',\n",
    " 'Geneva Uy',\n",
    " 'Iranel González',\n",
    " 'Ivanna Pivtorak',\n",
    " 'Jan Hildebrand',\n",
    " 'Kaan Dural',\n",
    " 'Simran Agarwal',\n",
    " 'Tahora Husaini',\n",
    " 'Tomas Renaudo',\n",
    " 'Valentina Delgado']\n",
    "teachers = [\"Aleks\", \"Sandra\"]\n",
    "\n",
    "# we use a print statement every time\n",
    "print(\"There are \" + str(len(students)) + \" students at Ironhack Data Analytics - March 2023 \" + str(random.choice(students)) + \" is one of them.\")\n",
    "print(\"There are \" + str(len(teachers)) + \" teachers at Ironhack Data Analytics - March 2023. . \" + str(random.choice(teachers)) + \" is one of them.\")"
   ]
  },
  {
   "cell_type": "markdown",
   "metadata": {},
   "source": [
    "### Defining the function"
   ]
  },
  {
   "cell_type": "code",
   "execution_count": 27,
   "metadata": {},
   "outputs": [],
   "source": [
    "# or we can define a function and use it whenever we need it\n",
    "def howmany(group, groupname): # we have to define the name of the 'group' because variable names are not accessible\n",
    "    #import random\n",
    "    return(\"There are \" + (str(len(group))) + \" \" + (groupname) + \". \" + str(random.choice(group)) + \" is one of them.\")"
   ]
  },
  {
   "cell_type": "code",
   "execution_count": 28,
   "metadata": {},
   "outputs": [],
   "source": [
    "name_of_group = \"students\""
   ]
  },
  {
   "cell_type": "code",
   "execution_count": 29,
   "metadata": {},
   "outputs": [
    {
     "data": {
      "text/plain": [
       "'There are 16 students. Babitha Prasun is one of them.'"
      ]
     },
     "execution_count": 29,
     "metadata": {},
     "output_type": "execute_result"
    }
   ],
   "source": [
    "howmany(students, name_of_group)"
   ]
  },
  {
   "cell_type": "markdown",
   "metadata": {},
   "source": [
    "### Calling the function"
   ]
  },
  {
   "cell_type": "code",
   "execution_count": 30,
   "metadata": {},
   "outputs": [
    {
     "name": "stdout",
     "output_type": "stream",
     "text": [
      "There are 16 students. Azad Kader is one of them.\n",
      "There are 2 teachers. Sandra is one of them.\n"
     ]
    }
   ],
   "source": [
    "print(howmany(students, \"students\"))\n",
    "print(howmany(teachers, \"teachers\"))"
   ]
  },
  {
   "cell_type": "code",
   "execution_count": 31,
   "metadata": {},
   "outputs": [
    {
     "data": {
      "text/plain": [
       "'There are 16 students. Ivanna Pivtorak is one of them.'"
      ]
     },
     "execution_count": 31,
     "metadata": {},
     "output_type": "execute_result"
    }
   ],
   "source": [
    "howmany(students,'students')"
   ]
  },
  {
   "cell_type": "markdown",
   "metadata": {},
   "source": [
    "<b>Definition"
   ]
  },
  {
   "cell_type": "code",
   "execution_count": null,
   "metadata": {},
   "outputs": [],
   "source": [
    "import math"
   ]
  },
  {
   "cell_type": "code",
   "execution_count": 37,
   "metadata": {},
   "outputs": [],
   "source": [
    "def division(x, y):\n",
    "    if y==0: \n",
    "        print(\"please give me a non-null number\")\n",
    "    else:\n",
    "        return x / y"
   ]
  },
  {
   "cell_type": "markdown",
   "metadata": {},
   "source": [
    "<b>Call"
   ]
  },
  {
   "cell_type": "markdown",
   "metadata": {},
   "source": [
    "Unless specified otherwise, arguments are passed in order"
   ]
  },
  {
   "cell_type": "code",
   "execution_count": 38,
   "metadata": {},
   "outputs": [
    {
     "name": "stdout",
     "output_type": "stream",
     "text": [
      "please give me a non-null number\n"
     ]
    }
   ],
   "source": [
    "division(10, 0)"
   ]
  },
  {
   "cell_type": "code",
   "execution_count": 39,
   "metadata": {},
   "outputs": [
    {
     "data": {
      "text/plain": [
       "0.2"
      ]
     },
     "execution_count": 39,
     "metadata": {},
     "output_type": "execute_result"
    }
   ],
   "source": [
    "division(y = 10, x = 2)"
   ]
  },
  {
   "cell_type": "code",
   "execution_count": 41,
   "metadata": {},
   "outputs": [
    {
     "data": {
      "text/plain": [
       "2.0"
      ]
     },
     "execution_count": 41,
     "metadata": {},
     "output_type": "execute_result"
    }
   ],
   "source": [
    "division(10,5)"
   ]
  },
  {
   "cell_type": "markdown",
   "metadata": {},
   "source": [
    "Arguments are not restricted to an object type (we never declare the types of variables, arguments or return values"
   ]
  },
  {
   "cell_type": "code",
   "execution_count": 42,
   "metadata": {},
   "outputs": [
    {
     "name": "stdout",
     "output_type": "stream",
     "text": [
      "72\n"
     ]
    }
   ],
   "source": [
    "def product(x, y):\n",
    "    return x * y\n",
    "\n",
    "print(product(8,9))\n"
   ]
  },
  {
   "cell_type": "markdown",
   "metadata": {},
   "source": [
    "What if we really want to constrain the function to only integers"
   ]
  },
  {
   "cell_type": "code",
   "execution_count": 44,
   "metadata": {},
   "outputs": [],
   "source": [
    "def product_integers(x, y):\n",
    "    if type(x) == int:\n",
    "        if type(y) == int:\n",
    "            return(x*y)\n",
    "    else:\n",
    "        return \"Unfortunately, Only integers allowed!\""
   ]
  },
  {
   "cell_type": "code",
   "execution_count": 45,
   "metadata": {},
   "outputs": [
    {
     "name": "stdout",
     "output_type": "stream",
     "text": [
      "16\n",
      "Unfortunately, Only integers allowed!\n"
     ]
    }
   ],
   "source": [
    "print(product_integers(8, 2))\n",
    "print(product_integers(\"a\", 4))"
   ]
  },
  {
   "cell_type": "markdown",
   "metadata": {},
   "source": [
    "### Scopes"
   ]
  },
  {
   "cell_type": "markdown",
   "metadata": {},
   "source": [
    "<b> local scope"
   ]
  },
  {
   "cell_type": "code",
   "execution_count": 46,
   "metadata": {},
   "outputs": [],
   "source": [
    "x = 1990"
   ]
  },
  {
   "cell_type": "code",
   "execution_count": 3,
   "metadata": {},
   "outputs": [],
   "source": [
    "def func():\n",
    "    global x\n",
    "    x = 2020  ## local variable \n",
    "    print(\"the value of x is \" + str(x))\n",
    "    return x"
   ]
  },
  {
   "cell_type": "code",
   "execution_count": 4,
   "metadata": {},
   "outputs": [
    {
     "name": "stdout",
     "output_type": "stream",
     "text": [
      "the value of x is 2020\n"
     ]
    },
    {
     "data": {
      "text/plain": [
       "2020"
      ]
     },
     "execution_count": 4,
     "metadata": {},
     "output_type": "execute_result"
    }
   ],
   "source": [
    "func()"
   ]
  },
  {
   "cell_type": "code",
   "execution_count": 5,
   "metadata": {},
   "outputs": [
    {
     "name": "stdout",
     "output_type": "stream",
     "text": [
      "2020\n"
     ]
    }
   ],
   "source": [
    "print(x)"
   ]
  },
  {
   "cell_type": "markdown",
   "metadata": {},
   "source": [
    "#### The \"global\" statement"
   ]
  },
  {
   "cell_type": "code",
   "execution_count": 50,
   "metadata": {},
   "outputs": [],
   "source": [
    "y = 88"
   ]
  },
  {
   "cell_type": "code",
   "execution_count": 51,
   "metadata": {},
   "outputs": [],
   "source": [
    "def func():\n",
    "    #global y\n",
    "    y= 99  \n",
    "    print(y)"
   ]
  },
  {
   "cell_type": "code",
   "execution_count": 52,
   "metadata": {},
   "outputs": [
    {
     "name": "stdout",
     "output_type": "stream",
     "text": [
      "99\n"
     ]
    }
   ],
   "source": [
    "func()                     "
   ]
  },
  {
   "cell_type": "code",
   "execution_count": 53,
   "metadata": {},
   "outputs": [
    {
     "data": {
      "text/plain": [
       "88"
      ]
     },
     "execution_count": 53,
     "metadata": {},
     "output_type": "execute_result"
    }
   ],
   "source": [
    "y"
   ]
  },
  {
   "cell_type": "markdown",
   "metadata": {},
   "source": [
    "A best practice is to minimize globals, they are confusing."
   ]
  },
  {
   "cell_type": "markdown",
   "metadata": {},
   "source": [
    "#### Some more tips for using functions:\n",
    "\n",
    "- each function should have a single, unified purpose.\n",
    "\n",
    "- each function should be relatively small"
   ]
  }
 ],
 "metadata": {
  "kernelspec": {
   "display_name": "Python 3 (ipykernel)",
   "language": "python",
   "name": "python3"
  },
  "language_info": {
   "codemirror_mode": {
    "name": "ipython",
    "version": 3
   },
   "file_extension": ".py",
   "mimetype": "text/x-python",
   "name": "python",
   "nbconvert_exporter": "python",
   "pygments_lexer": "ipython3",
   "version": "3.10.9"
  },
  "toc": {
   "base_numbering": 1,
   "nav_menu": {},
   "number_sections": false,
   "sideBar": true,
   "skip_h1_title": false,
   "title_cell": "Table of Contents",
   "title_sidebar": "Contents",
   "toc_cell": false,
   "toc_position": {},
   "toc_section_display": true,
   "toc_window_display": false
  }
 },
 "nbformat": 4,
 "nbformat_minor": 4
}
